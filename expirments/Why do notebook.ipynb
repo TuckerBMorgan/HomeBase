{
 "cells": [
  {
   "cell_type": "markdown",
   "metadata": {},
   "source": []
  },
  {
   "cell_type": "code",
   "execution_count": 4,
   "metadata": {},
   "outputs": [
    {
     "name": "stdout",
     "output_type": "stream",
     "text": [
      "HELLEOEOEOE\n"
     ]
    }
   ],
   "source": [
    "import tensorflow as tf\n",
    "import numpy as np\n",
    "from tensorflow import keras\n",
    "from tensorflow.keras.models import Sequential\n",
    "from tensorflow.keras.layers import Dense\n",
    "print(\"HELLEOEOEOE\")\n",
    "#format [choose value, and gate, or gate]\n",
    "#choose value 0 equals pass and, 1 equals pass or\n",
    "input_pairs = np.array([\n",
    "    [0.0, 0.0, 0.0],\n",
    "    [0.0, 0.0, 1.0],\n",
    "    [0.0, 0.0, 1.0],\n",
    "    [0.0, 1.0, 1.0],\n",
    "\n",
    "    [1.0, 0.0, 0.0],\n",
    "    [1.0, 0.0, 1.0],\n",
    "    [1.0, 0.0, 1.0],\n",
    "    [1.0, 1.0, 1.0]\n",
    "])\n",
    "\n",
    "output_values = np.array([\n",
    "    0.0, 0.0, 0.0, 1.0,\n",
    "    0.0, 1.0, 1.0, 1.0\n",
    "])\n",
    "\n",
    "valid_in = keras.utils.to_categorical(input_pairs)\n",
    "valid_out = keras.utils.to_categorical(output_values)\n",
    "def create_network():\n",
    "    model = Sequential()\n",
    "    model.add(Dense(10, input_dim=3, kernel_initializer='normal', activation='relu'))#dense input layer \n",
    "    model.add(Dense(10, input_dim=10, kernel_initializer='normal', activation='relu'))#dense hidden layer\n",
    "    model.add(Dense(1, kernel_initializer='normal', activation='relu'))#dense output layer\n",
    "    model.compile(loss='mean_squared_error', optimizer='sgd', metrics=['accuracy'])\n",
    "    return model\n",
    "training_runs = 100\n",
    "acc = []\n",
    "weights = []\n",
    "bias = []\n",
    "for i in range(training_runs):\n",
    "    network = create_network()\n",
    "    history = network.fit(input_pairs, output_values, validation_data=(input_pairs, output_values), epochs=5000, batch_size=8, verbose=0)\n",
    "    acc.append(history.history[\"acc\"][-1])\n",
    "    network.save(str(i))\n",
    "\n",
    "np.savetxt(\"accuracy.txt\", acc)"
   ]
  },
  {
   "cell_type": "code",
   "execution_count": 3,
   "metadata": {},
   "outputs": [
    {
     "name": "stdout",
     "output_type": "stream",
     "text": [
      "hhhhh\n"
     ]
    }
   ],
   "source": [
    "print(\"hhhhh\")"
   ]
  },
  {
   "cell_type": "code",
   "execution_count": null,
   "metadata": {},
   "outputs": [],
   "source": [
    "print(\"hhhhh\")"
   ]
  },
  {
   "cell_type": "code",
   "execution_count": null,
   "metadata": {},
   "outputs": [],
   "source": []
  }
 ],
 "metadata": {
  "kernelspec": {
   "display_name": "Python 3",
   "language": "python",
   "name": "python3"
  },
  "language_info": {
   "codemirror_mode": {
    "name": "ipython",
    "version": 3
   },
   "file_extension": ".py",
   "mimetype": "text/x-python",
   "name": "python",
   "nbconvert_exporter": "python",
   "pygments_lexer": "ipython3",
   "version": "3.6.7"
  }
 },
 "nbformat": 4,
 "nbformat_minor": 2
}
